{
 "cells": [
  {
   "cell_type": "code",
   "execution_count": 1,
   "metadata": {},
   "outputs": [],
   "source": [
    "from __future__ import annotations\n",
    "import re\n",
    "from pathlib import Path\n",
    "import pandas as pd"
   ]
  },
  {
   "cell_type": "code",
   "execution_count": 22,
   "metadata": {},
   "outputs": [
    {
     "ename": "TypeError",
     "evalue": "'str' object is not callable",
     "output_type": "error",
     "traceback": [
      "\u001b[0;31m---------------------------------------------------------------------------\u001b[0m",
      "\u001b[0;31mTypeError\u001b[0m                                 Traceback (most recent call last)",
      "Cell \u001b[0;32mIn[22], line 46\u001b[0m\n\u001b[1;32m     43\u001b[0m DataPath \u001b[38;5;241m=\u001b[39m \u001b[38;5;124m\"\u001b[39m\u001b[38;5;124m../data/NGLs_series.xlsx\u001b[39m\u001b[38;5;124m\"\u001b[39m   \u001b[38;5;66;03m# e.g., ../data/NGLs_series.xlsx\u001b[39;00m\n\u001b[1;32m     44\u001b[0m sheet \u001b[38;5;241m=\u001b[39m \u001b[38;5;124m\"\u001b[39m\u001b[38;5;124mDAE\u001b[39m\u001b[38;5;124m\"\u001b[39m                    \u001b[38;5;66;03m# e.g., a ticker sheet name\u001b[39;00m\n\u001b[0;32m---> 46\u001b[0m wide \u001b[38;5;241m=\u001b[39m \u001b[43mread_futures_xlsx\u001b[49m\u001b[43m(\u001b[49m\u001b[43mDataPath\u001b[49m\u001b[43m,\u001b[49m\u001b[43m \u001b[49m\u001b[43msheet\u001b[49m\u001b[43m)\u001b[49m\n\u001b[1;32m     48\u001b[0m \u001b[38;5;28mprint\u001b[39m(\u001b[38;5;124m\"\u001b[39m\u001b[38;5;124mWIDE (first 5 rows):\u001b[39m\u001b[38;5;130;01m\\n\u001b[39;00m\u001b[38;5;124m\"\u001b[39m, wide\u001b[38;5;241m.\u001b[39mhead(), \u001b[38;5;124m\"\u001b[39m\u001b[38;5;130;01m\\n\u001b[39;00m\u001b[38;5;124m\"\u001b[39m, sep\u001b[38;5;241m=\u001b[39m\u001b[38;5;124m\"\u001b[39m\u001b[38;5;124m\"\u001b[39m)\n",
      "Cell \u001b[0;32mIn[22], line 2\u001b[0m, in \u001b[0;36mread_futures_xlsx\u001b[0;34m(path, sheet)\u001b[0m\n\u001b[1;32m      1\u001b[0m \u001b[38;5;28;01mdef\u001b[39;00m\u001b[38;5;250m \u001b[39m\u001b[38;5;21mread_futures_xlsx\u001b[39m(path: \u001b[38;5;28mstr\u001b[39m \u001b[38;5;241m|\u001b[39m Path, sheet: \u001b[38;5;28mstr\u001b[39m) \u001b[38;5;241m-\u001b[39m\u001b[38;5;241m>\u001b[39m pd\u001b[38;5;241m.\u001b[39mDataFrame:\n\u001b[0;32m----> 2\u001b[0m     path \u001b[38;5;241m=\u001b[39m \u001b[43mPath\u001b[49m\u001b[43m(\u001b[49m\u001b[43mpath\u001b[49m\u001b[43m)\u001b[49m\n\u001b[1;32m      3\u001b[0m     df \u001b[38;5;241m=\u001b[39m pd\u001b[38;5;241m.\u001b[39mread_excel(path, sheet_name\u001b[38;5;241m=\u001b[39msheet)\n\u001b[1;32m      5\u001b[0m     \u001b[38;5;66;03m# Find the date column (accepts 'Date' or 'Dates', case-insensitive)\u001b[39;00m\n",
      "\u001b[0;31mTypeError\u001b[0m: 'str' object is not callable"
     ]
    }
   ],
   "source": [
    "def read_futures_xlsx(path: str | Path, sheet: str) -> pd.DataFrame:\n",
    "    path = Path(path)\n",
    "    df = pd.read_excel(path, sheet_name=sheet)\n",
    "\n",
    "    # Find the date column (accepts 'Date' or 'Dates', case-insensitive)\n",
    "    date_col = next((c for c in df.columns if str(c).strip().lower() in {\"date\", \"dates\"}), None)\n",
    "    if date_col is None:\n",
    "        raise ValueError(\"No 'Date' or 'Dates' column found in the sheet.\")\n",
    "\n",
    "    # Normalize date index\n",
    "    df[date_col] = pd.to_datetime(df[date_col])\n",
    "    df = df.sort_values(date_col).set_index(date_col)\n",
    "\n",
    "    # Build a rename map for columns like 'BAP1 Comdty' -> 'F1', 'BAP2 Comdty' -> 'F2', etc.\n",
    "    name_map: dict[str, str] = {}\n",
    "    for c in df.columns:\n",
    "        s = str(c)\n",
    "        m = re.search(r\"(\\d+)\\s*Comdty$\", s, flags=re.IGNORECASE)\n",
    "        if m:\n",
    "            name_map[c] = f\"F{int(m.group(1))}\"\n",
    "            continue\n",
    "        # Also accept headers already like 'F1', 'M1', or just '1'\n",
    "        m2 = re.fullmatch(r\"[FfMm]?(\\d+)\", s)\n",
    "        if m2:\n",
    "            name_map[c] = f\"F{int(m2.group(1))}\"\n",
    "\n",
    "    df = df.rename(columns=name_map)\n",
    "\n",
    "    # Keep only tenor columns of the form F<number>\n",
    "    tenor_cols = [c for c in df.columns if re.fullmatch(r\"F\\d+\", str(c))]\n",
    "    if not tenor_cols:\n",
    "        raise ValueError(\"No tenor columns detected (expected headers like F1..F30 or '...1 Comdty').\")\n",
    "\n",
    "    # Sort by tenor number\n",
    "    tenor_cols = sorted(tenor_cols, key=lambda x: int(x[1:]))\n",
    "    df = df[tenor_cols]\n",
    "\n",
    "    return df\n",
    "\n",
    "\n",
    "\n",
    "# --- EXAMPLE USAGE (edit these two lines to your file/sheet) ---\n",
    "DataPath = \"../data/NGLs_series.xlsx\"   # e.g., ../data/NGLs_series.xlsx\n",
    "sheet = \"DAE\"                    # e.g., a ticker sheet name\n",
    "\n",
    "wide = read_futures_xlsx(DataPath, sheet)\n",
    "\n",
    "print(\"WIDE (first 5 rows):\\n\", wide.head(), \"\\n\", sep=\"\")\n",
    "\n"
   ]
  },
  {
   "cell_type": "code",
   "execution_count": 16,
   "metadata": {},
   "outputs": [],
   "source": [
    "# constrain and select time series\n",
    "def drop_full_term_structure_duplicates(df: pd.DataFrame) -> pd.DataFrame:\n",
    "    \"\"\"Drop rows where the entire term structure matches the previous row.\n",
    "\n",
    "    Mirrors your Excel rule: if every F# is exactly equal to the prior row,\n",
    "    treat it as a holiday duplicate and keep only the first occurrence.\n",
    "    \"\"\"\n",
    "    # True when *all* columns match the previous row\n",
    "    dup_mask = df.shift().eq(df).all(axis=1)\n",
    "    return df.loc[~dup_mask]\n"
   ]
  },
  {
   "cell_type": "code",
   "execution_count": null,
   "metadata": {},
   "outputs": [],
   "source": [
    "# Holiday dupe clean"
   ]
  },
  {
   "cell_type": "code",
   "execution_count": null,
   "metadata": {},
   "outputs": [],
   "source": [
    "# create roll calendar"
   ]
  },
  {
   "cell_type": "code",
   "execution_count": null,
   "metadata": {},
   "outputs": [],
   "source": [
    "# rolling PnL\n",
    "\n",
    "# Daily PnL\n",
    "\n",
    "# Cost\n",
    "\n",
    "# Long Rolling PnL\n",
    "\n",
    "# Long Rolling EL\n",
    "\n",
    "# Roll Adjusted Time Series\n",
    "\n",
    "# Long Drawdown"
   ]
  },
  {
   "cell_type": "code",
   "execution_count": null,
   "metadata": {},
   "outputs": [],
   "source": [
    "# momentum"
   ]
  },
  {
   "cell_type": "code",
   "execution_count": null,
   "metadata": {},
   "outputs": [],
   "source": [
    "# carry"
   ]
  }
 ],
 "metadata": {
  "kernelspec": {
   "display_name": "Python 3",
   "language": "python",
   "name": "python3"
  },
  "language_info": {
   "codemirror_mode": {
    "name": "ipython",
    "version": 3
   },
   "file_extension": ".py",
   "mimetype": "text/x-python",
   "name": "python",
   "nbconvert_exporter": "python",
   "pygments_lexer": "ipython3",
   "version": "3.11.11"
  }
 },
 "nbformat": 4,
 "nbformat_minor": 2
}
