{
 "cells": [
  {
   "cell_type": "code",
   "execution_count": 1,
   "metadata": {},
   "outputs": [],
   "source": [
    "import pandas as pd\n",
    "import matplotlib.pyplot as plt"
   ]
  },
  {
   "cell_type": "code",
   "execution_count": 2,
   "metadata": {},
   "outputs": [
    {
     "name": "stdout",
     "output_type": "stream",
     "text": [
      "Available Sheets: ['NG', 'CAP', 'BAP', 'DAE', 'IBD', 'MMB', 'PCW', 'PGP']\n",
      "\n",
      "First few rows of sheet: NG\n",
      "        Date    NG1    NG2\n",
      "0 2011-07-07  4.133  4.138\n",
      "1 2011-07-08  4.205  4.204\n",
      "2 2011-07-11  4.288  4.277\n",
      "3 2011-07-12  4.333  4.312\n",
      "4 2011-07-13  4.403  4.387\n"
     ]
    }
   ],
   "source": [
    "# ----------------------------\n",
    "# Load and Clean NGL Data\n",
    "# ----------------------------\n",
    "\n",
    "\n",
    "def load_ngl_data(filepath):\n",
    "    # Load all sheets dynamically, starting from the correct header row\n",
    "    xl = pd.ExcelFile(filepath)\n",
    "    sheets = xl.sheet_names\n",
    "    print(f\"Available Sheets: {sheets}\")\n",
    "    \n",
    "    ngl_data = {}\n",
    "    for sheet in sheets:\n",
    "        df = xl.parse(sheet, header=4)  # Start from row 5 (header=4)\n",
    "        df = df.rename(columns={df.columns[0]: 'Date'})  # Rename the date column\n",
    "        df['Date'] = pd.to_datetime(df['Date'], errors='coerce')  # Convert date column\n",
    "        df = df.dropna(subset=['Date'])  # Drop rows where date is NaT\n",
    "        \n",
    "        # Keep only the first two contracts (NG1 and NG2) for now\n",
    "        df = df[['Date', df.columns[1], df.columns[2]]]\n",
    "        df.columns = ['Date', 'NG1', 'NG2']\n",
    "        \n",
    "        ngl_data[sheet] = df\n",
    "    \n",
    "    return ngl_data\n",
    "\n",
    "# File path\n",
    "ngl_filepath = '/Users/markbogorad/Desktop/NYU_MFE/Semester_2/1.2_Trading_Energy_Derivatives_MATH_GA_2800/Oil_Project/Systematic_Energy_Trading/Data/NGLs.xlsx'\n",
    "\n",
    "# Load the data\n",
    "ngl_datasets = load_ngl_data(ngl_filepath)\n",
    "\n",
    "# Display one of the datasets to verify\n",
    "for key, df in ngl_datasets.items():\n",
    "    print(f\"\\nFirst few rows of sheet: {key}\")\n",
    "    print(df.head())\n",
    "    break  # Display only the first sheet for now\n",
    "\n"
   ]
  },
  {
   "cell_type": "code",
   "execution_count": null,
   "metadata": {},
   "outputs": [],
   "source": [
    "def momentum_strategy(df, n=20):\n",
    "    df[\"momentum_signal\"] = np.where(df[\"F1\"] > df[\"F1\"].rolling(n).mean(), 1, \n",
    "                                     np.where(df[\"F1\"] < df[\"F1\"].rolling(n).mean(), -1, 0))\n",
    "\n",
    "    df[\"momentum_pnl\"] = df[\"momentum_signal\"].shift(1) * df[\"dF\"] * VOLUME\n",
    "    df[\"momentum_equity\"] = df[\"momentum_pnl\"].cumsum()\n",
    "    \n",
    "    return df\n"
   ]
  },
  {
   "cell_type": "code",
   "execution_count": null,
   "metadata": {},
   "outputs": [],
   "source": [
    "def compute_metrics(df, pnl_column):\n",
    "    annual_pnl = df[pnl_column].sum() / (len(df) / 252)  # Annualized P&L\n",
    "    sharpe_ratio = annual_pnl / (df[pnl_column].std() * np.sqrt(252))\n",
    "    \n",
    "    hwm = df[pnl_column].cummax()\n",
    "    max_drawdown = (hwm - df[pnl_column]).max()\n",
    "    return_on_drawdown = annual_pnl / max_drawdown if max_drawdown != 0 else np.nan\n",
    "    \n",
    "    return {\n",
    "        \"Annual PnL\": annual_pnl,\n",
    "        \"Sharpe Ratio\": sharpe_ratio,\n",
    "        \"Max Drawdown\": max_drawdown,\n",
    "        \"Return on Drawdown\": return_on_drawdown\n",
    "    }\n"
   ]
  }
 ],
 "metadata": {
  "kernelspec": {
   "display_name": "Python 3",
   "language": "python",
   "name": "python3"
  },
  "language_info": {
   "codemirror_mode": {
    "name": "ipython",
    "version": 3
   },
   "file_extension": ".py",
   "mimetype": "text/x-python",
   "name": "python",
   "nbconvert_exporter": "python",
   "pygments_lexer": "ipython3",
   "version": "3.11.11"
  }
 },
 "nbformat": 4,
 "nbformat_minor": 2
}
